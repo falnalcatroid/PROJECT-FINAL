{
 "cells": [
  {
   "cell_type": "code",
   "execution_count": 29,
   "id": "c3c6ff3a-9e70-48c6-bc18-61aaeb7e9ffc",
   "metadata": {},
   "outputs": [],
   "source": [
    "import pandas as pd\n",
    "import streamlit as st\n",
    "import plotly.express as px\n",
    "import altair as alt\n"
   ]
  },
  {
   "cell_type": "code",
   "execution_count": 30,
   "id": "9df72909",
   "metadata": {},
   "outputs": [
    {
     "data": {
      "text/html": [
       "<div>\n",
       "<style scoped>\n",
       "    .dataframe tbody tr th:only-of-type {\n",
       "        vertical-align: middle;\n",
       "    }\n",
       "\n",
       "    .dataframe tbody tr th {\n",
       "        vertical-align: top;\n",
       "    }\n",
       "\n",
       "    .dataframe thead th {\n",
       "        text-align: right;\n",
       "    }\n",
       "</style>\n",
       "<table border=\"1\" class=\"dataframe\">\n",
       "  <thead>\n",
       "    <tr style=\"text-align: right;\">\n",
       "      <th></th>\n",
       "      <th>price</th>\n",
       "      <th>model_year</th>\n",
       "      <th>model</th>\n",
       "      <th>condition</th>\n",
       "      <th>cylinders</th>\n",
       "      <th>fuel</th>\n",
       "      <th>odometer</th>\n",
       "      <th>transmission</th>\n",
       "      <th>type</th>\n",
       "      <th>paint_color</th>\n",
       "      <th>is_4wd</th>\n",
       "      <th>date_posted</th>\n",
       "      <th>days_listed</th>\n",
       "    </tr>\n",
       "  </thead>\n",
       "  <tbody>\n",
       "    <tr>\n",
       "      <th>0</th>\n",
       "      <td>9400</td>\n",
       "      <td>2011.0</td>\n",
       "      <td>bmw x5</td>\n",
       "      <td>good</td>\n",
       "      <td>6.0</td>\n",
       "      <td>gas</td>\n",
       "      <td>145000.0</td>\n",
       "      <td>automatic</td>\n",
       "      <td>SUV</td>\n",
       "      <td>NaN</td>\n",
       "      <td>1.0</td>\n",
       "      <td>2018-06-23</td>\n",
       "      <td>19</td>\n",
       "    </tr>\n",
       "    <tr>\n",
       "      <th>1</th>\n",
       "      <td>25500</td>\n",
       "      <td>NaN</td>\n",
       "      <td>ford f-150</td>\n",
       "      <td>good</td>\n",
       "      <td>6.0</td>\n",
       "      <td>gas</td>\n",
       "      <td>88705.0</td>\n",
       "      <td>automatic</td>\n",
       "      <td>pickup</td>\n",
       "      <td>white</td>\n",
       "      <td>1.0</td>\n",
       "      <td>2018-10-19</td>\n",
       "      <td>50</td>\n",
       "    </tr>\n",
       "    <tr>\n",
       "      <th>2</th>\n",
       "      <td>5500</td>\n",
       "      <td>2013.0</td>\n",
       "      <td>hyundai sonata</td>\n",
       "      <td>like new</td>\n",
       "      <td>4.0</td>\n",
       "      <td>gas</td>\n",
       "      <td>110000.0</td>\n",
       "      <td>automatic</td>\n",
       "      <td>sedan</td>\n",
       "      <td>red</td>\n",
       "      <td>NaN</td>\n",
       "      <td>2019-02-07</td>\n",
       "      <td>79</td>\n",
       "    </tr>\n",
       "    <tr>\n",
       "      <th>3</th>\n",
       "      <td>1500</td>\n",
       "      <td>2003.0</td>\n",
       "      <td>ford f-150</td>\n",
       "      <td>fair</td>\n",
       "      <td>8.0</td>\n",
       "      <td>gas</td>\n",
       "      <td>NaN</td>\n",
       "      <td>automatic</td>\n",
       "      <td>pickup</td>\n",
       "      <td>NaN</td>\n",
       "      <td>NaN</td>\n",
       "      <td>2019-03-22</td>\n",
       "      <td>9</td>\n",
       "    </tr>\n",
       "    <tr>\n",
       "      <th>4</th>\n",
       "      <td>14900</td>\n",
       "      <td>2017.0</td>\n",
       "      <td>chrysler 200</td>\n",
       "      <td>excellent</td>\n",
       "      <td>4.0</td>\n",
       "      <td>gas</td>\n",
       "      <td>80903.0</td>\n",
       "      <td>automatic</td>\n",
       "      <td>sedan</td>\n",
       "      <td>black</td>\n",
       "      <td>NaN</td>\n",
       "      <td>2019-04-02</td>\n",
       "      <td>28</td>\n",
       "    </tr>\n",
       "  </tbody>\n",
       "</table>\n",
       "</div>"
      ],
      "text/plain": [
       "   price  model_year           model  condition  cylinders fuel  odometer  \\\n",
       "0   9400      2011.0          bmw x5       good        6.0  gas  145000.0   \n",
       "1  25500         NaN      ford f-150       good        6.0  gas   88705.0   \n",
       "2   5500      2013.0  hyundai sonata   like new        4.0  gas  110000.0   \n",
       "3   1500      2003.0      ford f-150       fair        8.0  gas       NaN   \n",
       "4  14900      2017.0    chrysler 200  excellent        4.0  gas   80903.0   \n",
       "\n",
       "  transmission    type paint_color  is_4wd date_posted  days_listed  \n",
       "0    automatic     SUV         NaN     1.0  2018-06-23           19  \n",
       "1    automatic  pickup       white     1.0  2018-10-19           50  \n",
       "2    automatic   sedan         red     NaN  2019-02-07           79  \n",
       "3    automatic  pickup         NaN     NaN  2019-03-22            9  \n",
       "4    automatic   sedan       black     NaN  2019-04-02           28  "
      ]
     },
     "execution_count": 30,
     "metadata": {},
     "output_type": "execute_result"
    }
   ],
   "source": [
    "df = pd.read_csv(\"vehicles_us.csv\") \n",
    "df.head() "
   ]
  },
  {
   "cell_type": "code",
   "execution_count": 31,
   "id": "bc121a7d",
   "metadata": {},
   "outputs": [],
   "source": [
    "df = df.drop_duplicates().reset_index(drop=True)"
   ]
  },
  {
   "cell_type": "code",
   "execution_count": 32,
   "id": "3fc6d6a6",
   "metadata": {},
   "outputs": [],
   "source": [
    "#standardise all columns and stripping \n",
    "for col in [\"model\", \"condition\", \"fuel\", \"transmission\", \"type\", \"paint_color\"]:\n",
    "    df[col] = df[col].str.lower().str.strip()"
   ]
  },
  {
   "cell_type": "code",
   "execution_count": 33,
   "id": "37b0bcf5",
   "metadata": {},
   "outputs": [],
   "source": [
    "#recasting data types\n",
    "df[\"date_posted\"] = pd.to_datetime(df[\"date_posted\"], errors=\"coerce\")\n",
    "df[\"is_4wd\"]      = df[\"is_4wd\"].fillna(0).astype(bool)   # NaN→False"
   ]
  },
  {
   "cell_type": "code",
   "execution_count": 34,
   "id": "3484f33b",
   "metadata": {},
   "outputs": [],
   "source": [
    "#numeric columns built for staying integers\n",
    "int_cols   = {\"model_year\": \"model\", \"cylinders\": \"fuel\"}     # {col: group_key}\n",
    "for col, grp in int_cols.items():\n",
    "    # temp float to accept non‑whole medians\n",
    "    df[col] = df[col].astype(float)\n",
    "    df[col] = (\n",
    "        df.groupby(grp)[col]\n",
    "          .transform(lambda s: s.fillna(round(s.median())))\n",
    "    )\n",
    "    df[col] = df[col].astype(\"Int64\")  # back to nullable int"
   ]
  },
  {
   "cell_type": "code",
   "execution_count": 35,
   "id": "afb06da4",
   "metadata": {},
   "outputs": [],
   "source": [
    "#added features \n",
    "CURRENT_YEAR = 2025\n",
    "df[\"vehicle_age\"] = CURRENT_YEAR - df[\"model_year\"]\n",
    "df[\"days_since_post\"] = (pd.Timestamp(\"today\") - df[\"date_posted\"]).dt.days"
   ]
  },
  {
   "cell_type": "code",
   "execution_count": 36,
   "id": "0692a2f7",
   "metadata": {},
   "outputs": [],
   "source": [
    "# Categorical NaN → \"unknown\"\n",
    "df[\"paint_color\"] = df[\"paint_color\"].fillna(\"unknown\")"
   ]
  },
  {
   "cell_type": "code",
   "execution_count": 37,
   "id": "cdb5770a",
   "metadata": {},
   "outputs": [],
   "source": [
    "#sanity caps \n",
    "df[\"price\"] = df[\"price\"].clip(lower=500, upper=120_000)"
   ]
  },
  {
   "cell_type": "code",
   "execution_count": 38,
   "id": "3e898ade",
   "metadata": {},
   "outputs": [
    {
     "name": "stdout",
     "output_type": "stream",
     "text": [
      "<class 'pandas.core.frame.DataFrame'>\n",
      "RangeIndex: 51525 entries, 0 to 51524\n",
      "Data columns (total 15 columns):\n",
      " #   Column           Non-Null Count  Dtype         \n",
      "---  ------           --------------  -----         \n",
      " 0   price            51525 non-null  int64         \n",
      " 1   model_year       51525 non-null  Int64         \n",
      " 2   model            51525 non-null  object        \n",
      " 3   condition        51525 non-null  object        \n",
      " 4   cylinders        51525 non-null  Int64         \n",
      " 5   fuel             51525 non-null  object        \n",
      " 6   odometer         43633 non-null  float64       \n",
      " 7   transmission     51525 non-null  object        \n",
      " 8   type             51525 non-null  object        \n",
      " 9   paint_color      51525 non-null  object        \n",
      " 10  is_4wd           51525 non-null  bool          \n",
      " 11  date_posted      51525 non-null  datetime64[ns]\n",
      " 12  days_listed      51525 non-null  int64         \n",
      " 13  vehicle_age      51525 non-null  Int64         \n",
      " 14  days_since_post  51525 non-null  int64         \n",
      "dtypes: Int64(3), bool(1), datetime64[ns](1), float64(1), int64(3), object(6)\n",
      "memory usage: 5.7+ MB\n"
     ]
    },
    {
     "data": {
      "text/plain": [
       "None"
      ]
     },
     "metadata": {},
     "output_type": "display_data"
    },
    {
     "data": {
      "text/html": [
       "<div>\n",
       "<style scoped>\n",
       "    .dataframe tbody tr th:only-of-type {\n",
       "        vertical-align: middle;\n",
       "    }\n",
       "\n",
       "    .dataframe tbody tr th {\n",
       "        vertical-align: top;\n",
       "    }\n",
       "\n",
       "    .dataframe thead th {\n",
       "        text-align: right;\n",
       "    }\n",
       "</style>\n",
       "<table border=\"1\" class=\"dataframe\">\n",
       "  <thead>\n",
       "    <tr style=\"text-align: right;\">\n",
       "      <th></th>\n",
       "      <th>count</th>\n",
       "      <th>unique</th>\n",
       "      <th>top</th>\n",
       "      <th>freq</th>\n",
       "      <th>mean</th>\n",
       "      <th>min</th>\n",
       "      <th>25%</th>\n",
       "      <th>50%</th>\n",
       "      <th>75%</th>\n",
       "      <th>max</th>\n",
       "      <th>std</th>\n",
       "    </tr>\n",
       "  </thead>\n",
       "  <tbody>\n",
       "    <tr>\n",
       "      <th>price</th>\n",
       "      <td>51525.0</td>\n",
       "      <td>NaN</td>\n",
       "      <td>NaN</td>\n",
       "      <td>NaN</td>\n",
       "      <td>12123.021679</td>\n",
       "      <td>500.0</td>\n",
       "      <td>5000.0</td>\n",
       "      <td>9000.0</td>\n",
       "      <td>16839.0</td>\n",
       "      <td>120000.0</td>\n",
       "      <td>9698.364543</td>\n",
       "    </tr>\n",
       "    <tr>\n",
       "      <th>model_year</th>\n",
       "      <td>51525.0</td>\n",
       "      <td>&lt;NA&gt;</td>\n",
       "      <td>&lt;NA&gt;</td>\n",
       "      <td>&lt;NA&gt;</td>\n",
       "      <td>2009.793557</td>\n",
       "      <td>1908.0</td>\n",
       "      <td>2007.0</td>\n",
       "      <td>2011.0</td>\n",
       "      <td>2014.0</td>\n",
       "      <td>2019.0</td>\n",
       "      <td>6.099381</td>\n",
       "    </tr>\n",
       "    <tr>\n",
       "      <th>model</th>\n",
       "      <td>51525</td>\n",
       "      <td>100</td>\n",
       "      <td>ford f-150</td>\n",
       "      <td>2796</td>\n",
       "      <td>NaN</td>\n",
       "      <td>NaN</td>\n",
       "      <td>NaN</td>\n",
       "      <td>NaN</td>\n",
       "      <td>NaN</td>\n",
       "      <td>NaN</td>\n",
       "      <td>NaN</td>\n",
       "    </tr>\n",
       "    <tr>\n",
       "      <th>condition</th>\n",
       "      <td>51525</td>\n",
       "      <td>6</td>\n",
       "      <td>excellent</td>\n",
       "      <td>24773</td>\n",
       "      <td>NaN</td>\n",
       "      <td>NaN</td>\n",
       "      <td>NaN</td>\n",
       "      <td>NaN</td>\n",
       "      <td>NaN</td>\n",
       "      <td>NaN</td>\n",
       "      <td>NaN</td>\n",
       "    </tr>\n",
       "    <tr>\n",
       "      <th>cylinders</th>\n",
       "      <td>51525.0</td>\n",
       "      <td>&lt;NA&gt;</td>\n",
       "      <td>&lt;NA&gt;</td>\n",
       "      <td>&lt;NA&gt;</td>\n",
       "      <td>6.12623</td>\n",
       "      <td>3.0</td>\n",
       "      <td>4.0</td>\n",
       "      <td>6.0</td>\n",
       "      <td>8.0</td>\n",
       "      <td>12.0</td>\n",
       "      <td>1.583377</td>\n",
       "    </tr>\n",
       "    <tr>\n",
       "      <th>fuel</th>\n",
       "      <td>51525</td>\n",
       "      <td>5</td>\n",
       "      <td>gas</td>\n",
       "      <td>47288</td>\n",
       "      <td>NaN</td>\n",
       "      <td>NaN</td>\n",
       "      <td>NaN</td>\n",
       "      <td>NaN</td>\n",
       "      <td>NaN</td>\n",
       "      <td>NaN</td>\n",
       "      <td>NaN</td>\n",
       "    </tr>\n",
       "    <tr>\n",
       "      <th>odometer</th>\n",
       "      <td>43633.0</td>\n",
       "      <td>NaN</td>\n",
       "      <td>NaN</td>\n",
       "      <td>NaN</td>\n",
       "      <td>115553.461738</td>\n",
       "      <td>0.0</td>\n",
       "      <td>70000.0</td>\n",
       "      <td>113000.0</td>\n",
       "      <td>155000.0</td>\n",
       "      <td>990000.0</td>\n",
       "      <td>65094.611341</td>\n",
       "    </tr>\n",
       "    <tr>\n",
       "      <th>transmission</th>\n",
       "      <td>51525</td>\n",
       "      <td>3</td>\n",
       "      <td>automatic</td>\n",
       "      <td>46902</td>\n",
       "      <td>NaN</td>\n",
       "      <td>NaN</td>\n",
       "      <td>NaN</td>\n",
       "      <td>NaN</td>\n",
       "      <td>NaN</td>\n",
       "      <td>NaN</td>\n",
       "      <td>NaN</td>\n",
       "    </tr>\n",
       "    <tr>\n",
       "      <th>type</th>\n",
       "      <td>51525</td>\n",
       "      <td>13</td>\n",
       "      <td>suv</td>\n",
       "      <td>12405</td>\n",
       "      <td>NaN</td>\n",
       "      <td>NaN</td>\n",
       "      <td>NaN</td>\n",
       "      <td>NaN</td>\n",
       "      <td>NaN</td>\n",
       "      <td>NaN</td>\n",
       "      <td>NaN</td>\n",
       "    </tr>\n",
       "    <tr>\n",
       "      <th>paint_color</th>\n",
       "      <td>51525</td>\n",
       "      <td>13</td>\n",
       "      <td>white</td>\n",
       "      <td>10029</td>\n",
       "      <td>NaN</td>\n",
       "      <td>NaN</td>\n",
       "      <td>NaN</td>\n",
       "      <td>NaN</td>\n",
       "      <td>NaN</td>\n",
       "      <td>NaN</td>\n",
       "      <td>NaN</td>\n",
       "    </tr>\n",
       "    <tr>\n",
       "      <th>is_4wd</th>\n",
       "      <td>51525</td>\n",
       "      <td>2</td>\n",
       "      <td>False</td>\n",
       "      <td>25953</td>\n",
       "      <td>NaN</td>\n",
       "      <td>NaN</td>\n",
       "      <td>NaN</td>\n",
       "      <td>NaN</td>\n",
       "      <td>NaN</td>\n",
       "      <td>NaN</td>\n",
       "      <td>NaN</td>\n",
       "    </tr>\n",
       "    <tr>\n",
       "      <th>date_posted</th>\n",
       "      <td>51525</td>\n",
       "      <td>NaN</td>\n",
       "      <td>NaN</td>\n",
       "      <td>NaN</td>\n",
       "      <td>2018-10-25 01:57:46.270742528</td>\n",
       "      <td>2018-05-01 00:00:00</td>\n",
       "      <td>2018-07-29 00:00:00</td>\n",
       "      <td>2018-10-25 00:00:00</td>\n",
       "      <td>2019-01-21 00:00:00</td>\n",
       "      <td>2019-04-19 00:00:00</td>\n",
       "      <td>NaN</td>\n",
       "    </tr>\n",
       "    <tr>\n",
       "      <th>days_listed</th>\n",
       "      <td>51525.0</td>\n",
       "      <td>NaN</td>\n",
       "      <td>NaN</td>\n",
       "      <td>NaN</td>\n",
       "      <td>39.55476</td>\n",
       "      <td>0.0</td>\n",
       "      <td>19.0</td>\n",
       "      <td>33.0</td>\n",
       "      <td>53.0</td>\n",
       "      <td>271.0</td>\n",
       "      <td>28.20427</td>\n",
       "    </tr>\n",
       "    <tr>\n",
       "      <th>vehicle_age</th>\n",
       "      <td>51525.0</td>\n",
       "      <td>&lt;NA&gt;</td>\n",
       "      <td>&lt;NA&gt;</td>\n",
       "      <td>&lt;NA&gt;</td>\n",
       "      <td>15.206443</td>\n",
       "      <td>6.0</td>\n",
       "      <td>11.0</td>\n",
       "      <td>14.0</td>\n",
       "      <td>18.0</td>\n",
       "      <td>117.0</td>\n",
       "      <td>6.099381</td>\n",
       "    </tr>\n",
       "    <tr>\n",
       "      <th>days_since_post</th>\n",
       "      <td>51525.0</td>\n",
       "      <td>NaN</td>\n",
       "      <td>NaN</td>\n",
       "      <td>NaN</td>\n",
       "      <td>2386.918214</td>\n",
       "      <td>2211.0</td>\n",
       "      <td>2299.0</td>\n",
       "      <td>2387.0</td>\n",
       "      <td>2475.0</td>\n",
       "      <td>2564.0</td>\n",
       "      <td>102.026606</td>\n",
       "    </tr>\n",
       "  </tbody>\n",
       "</table>\n",
       "</div>"
      ],
      "text/plain": [
       "                   count unique         top   freq  \\\n",
       "price            51525.0    NaN         NaN    NaN   \n",
       "model_year       51525.0   <NA>        <NA>   <NA>   \n",
       "model              51525    100  ford f-150   2796   \n",
       "condition          51525      6   excellent  24773   \n",
       "cylinders        51525.0   <NA>        <NA>   <NA>   \n",
       "fuel               51525      5         gas  47288   \n",
       "odometer         43633.0    NaN         NaN    NaN   \n",
       "transmission       51525      3   automatic  46902   \n",
       "type               51525     13         suv  12405   \n",
       "paint_color        51525     13       white  10029   \n",
       "is_4wd             51525      2       False  25953   \n",
       "date_posted        51525    NaN         NaN    NaN   \n",
       "days_listed      51525.0    NaN         NaN    NaN   \n",
       "vehicle_age      51525.0   <NA>        <NA>   <NA>   \n",
       "days_since_post  51525.0    NaN         NaN    NaN   \n",
       "\n",
       "                                          mean                  min  \\\n",
       "price                             12123.021679                500.0   \n",
       "model_year                         2009.793557               1908.0   \n",
       "model                                      NaN                  NaN   \n",
       "condition                                  NaN                  NaN   \n",
       "cylinders                              6.12623                  3.0   \n",
       "fuel                                       NaN                  NaN   \n",
       "odometer                         115553.461738                  0.0   \n",
       "transmission                               NaN                  NaN   \n",
       "type                                       NaN                  NaN   \n",
       "paint_color                                NaN                  NaN   \n",
       "is_4wd                                     NaN                  NaN   \n",
       "date_posted      2018-10-25 01:57:46.270742528  2018-05-01 00:00:00   \n",
       "days_listed                           39.55476                  0.0   \n",
       "vehicle_age                          15.206443                  6.0   \n",
       "days_since_post                    2386.918214               2211.0   \n",
       "\n",
       "                                 25%                  50%  \\\n",
       "price                         5000.0               9000.0   \n",
       "model_year                    2007.0               2011.0   \n",
       "model                            NaN                  NaN   \n",
       "condition                        NaN                  NaN   \n",
       "cylinders                        4.0                  6.0   \n",
       "fuel                             NaN                  NaN   \n",
       "odometer                     70000.0             113000.0   \n",
       "transmission                     NaN                  NaN   \n",
       "type                             NaN                  NaN   \n",
       "paint_color                      NaN                  NaN   \n",
       "is_4wd                           NaN                  NaN   \n",
       "date_posted      2018-07-29 00:00:00  2018-10-25 00:00:00   \n",
       "days_listed                     19.0                 33.0   \n",
       "vehicle_age                     11.0                 14.0   \n",
       "days_since_post               2299.0               2387.0   \n",
       "\n",
       "                                 75%                  max           std  \n",
       "price                        16839.0             120000.0   9698.364543  \n",
       "model_year                    2014.0               2019.0      6.099381  \n",
       "model                            NaN                  NaN           NaN  \n",
       "condition                        NaN                  NaN           NaN  \n",
       "cylinders                        8.0                 12.0      1.583377  \n",
       "fuel                             NaN                  NaN           NaN  \n",
       "odometer                    155000.0             990000.0  65094.611341  \n",
       "transmission                     NaN                  NaN           NaN  \n",
       "type                             NaN                  NaN           NaN  \n",
       "paint_color                      NaN                  NaN           NaN  \n",
       "is_4wd                           NaN                  NaN           NaN  \n",
       "date_posted      2019-01-21 00:00:00  2019-04-19 00:00:00           NaN  \n",
       "days_listed                     53.0                271.0      28.20427  \n",
       "vehicle_age                     18.0                117.0      6.099381  \n",
       "days_since_post               2475.0               2564.0    102.026606  "
      ]
     },
     "metadata": {},
     "output_type": "display_data"
    }
   ],
   "source": [
    "#auditing\n",
    "display(df.info())\n",
    "display(df.describe(include=\"all\").T.head(15))"
   ]
  },
  {
   "cell_type": "code",
   "execution_count": 39,
   "id": "f2ad9565",
   "metadata": {},
   "outputs": [
    {
     "name": "stderr",
     "output_type": "stream",
     "text": [
      "C:\\Users\\falna\\AppData\\Local\\Temp\\ipykernel_24048\\133263461.py:6: FutureWarning: The default of observed=False is deprecated and will be changed to True in a future version of pandas. Pass observed=False to retain current behavior or observed=True to adopt the future default and silence this warning.\n",
      "  df.groupby(age_bins)[\"odometer\"]\n"
     ]
    }
   ],
   "source": [
    "#missed odometer cleaning here \n",
    "age_bins = pd.cut(CURRENT_YEAR - df[\"model_year\"].astype(float),\n",
    "                  [0,5,10,15,20,100])\n",
    "\n",
    "df[\"odometer\"] = (\n",
    "    df.groupby(age_bins)[\"odometer\"]\n",
    "      .transform(lambda s: s.fillna(s.median()))\n",
    ")\n",
    "df[\"odometer\"] = df[\"odometer\"].clip(upper=500_000)\n",
    "observed = True"
   ]
  },
  {
   "cell_type": "code",
   "execution_count": 40,
   "id": "9297eb5f",
   "metadata": {},
   "outputs": [
    {
     "name": "stdout",
     "output_type": "stream",
     "text": [
      "<class 'pandas.core.frame.DataFrame'>\n",
      "RangeIndex: 51525 entries, 0 to 51524\n",
      "Data columns (total 15 columns):\n",
      " #   Column           Non-Null Count  Dtype         \n",
      "---  ------           --------------  -----         \n",
      " 0   price            51525 non-null  int64         \n",
      " 1   model_year       51525 non-null  Int64         \n",
      " 2   model            51525 non-null  object        \n",
      " 3   condition        51525 non-null  object        \n",
      " 4   cylinders        51525 non-null  Int64         \n",
      " 5   fuel             51525 non-null  object        \n",
      " 6   odometer         51523 non-null  float64       \n",
      " 7   transmission     51525 non-null  object        \n",
      " 8   type             51525 non-null  object        \n",
      " 9   paint_color      51525 non-null  object        \n",
      " 10  is_4wd           51525 non-null  bool          \n",
      " 11  date_posted      51525 non-null  datetime64[ns]\n",
      " 12  days_listed      51525 non-null  int64         \n",
      " 13  vehicle_age      51525 non-null  Int64         \n",
      " 14  days_since_post  51525 non-null  int64         \n",
      "dtypes: Int64(3), bool(1), datetime64[ns](1), float64(1), int64(3), object(6)\n",
      "memory usage: 5.7+ MB\n"
     ]
    },
    {
     "data": {
      "text/plain": [
       "None"
      ]
     },
     "metadata": {},
     "output_type": "display_data"
    },
    {
     "data": {
      "text/html": [
       "<div>\n",
       "<style scoped>\n",
       "    .dataframe tbody tr th:only-of-type {\n",
       "        vertical-align: middle;\n",
       "    }\n",
       "\n",
       "    .dataframe tbody tr th {\n",
       "        vertical-align: top;\n",
       "    }\n",
       "\n",
       "    .dataframe thead th {\n",
       "        text-align: right;\n",
       "    }\n",
       "</style>\n",
       "<table border=\"1\" class=\"dataframe\">\n",
       "  <thead>\n",
       "    <tr style=\"text-align: right;\">\n",
       "      <th></th>\n",
       "      <th>count</th>\n",
       "      <th>unique</th>\n",
       "      <th>top</th>\n",
       "      <th>freq</th>\n",
       "      <th>mean</th>\n",
       "      <th>min</th>\n",
       "      <th>25%</th>\n",
       "      <th>50%</th>\n",
       "      <th>75%</th>\n",
       "      <th>max</th>\n",
       "      <th>std</th>\n",
       "    </tr>\n",
       "  </thead>\n",
       "  <tbody>\n",
       "    <tr>\n",
       "      <th>price</th>\n",
       "      <td>51525.0</td>\n",
       "      <td>NaN</td>\n",
       "      <td>NaN</td>\n",
       "      <td>NaN</td>\n",
       "      <td>12123.021679</td>\n",
       "      <td>500.0</td>\n",
       "      <td>5000.0</td>\n",
       "      <td>9000.0</td>\n",
       "      <td>16839.0</td>\n",
       "      <td>120000.0</td>\n",
       "      <td>9698.364543</td>\n",
       "    </tr>\n",
       "    <tr>\n",
       "      <th>model_year</th>\n",
       "      <td>51525.0</td>\n",
       "      <td>&lt;NA&gt;</td>\n",
       "      <td>&lt;NA&gt;</td>\n",
       "      <td>&lt;NA&gt;</td>\n",
       "      <td>2009.793557</td>\n",
       "      <td>1908.0</td>\n",
       "      <td>2007.0</td>\n",
       "      <td>2011.0</td>\n",
       "      <td>2014.0</td>\n",
       "      <td>2019.0</td>\n",
       "      <td>6.099381</td>\n",
       "    </tr>\n",
       "    <tr>\n",
       "      <th>model</th>\n",
       "      <td>51525</td>\n",
       "      <td>100</td>\n",
       "      <td>ford f-150</td>\n",
       "      <td>2796</td>\n",
       "      <td>NaN</td>\n",
       "      <td>NaN</td>\n",
       "      <td>NaN</td>\n",
       "      <td>NaN</td>\n",
       "      <td>NaN</td>\n",
       "      <td>NaN</td>\n",
       "      <td>NaN</td>\n",
       "    </tr>\n",
       "    <tr>\n",
       "      <th>condition</th>\n",
       "      <td>51525</td>\n",
       "      <td>6</td>\n",
       "      <td>excellent</td>\n",
       "      <td>24773</td>\n",
       "      <td>NaN</td>\n",
       "      <td>NaN</td>\n",
       "      <td>NaN</td>\n",
       "      <td>NaN</td>\n",
       "      <td>NaN</td>\n",
       "      <td>NaN</td>\n",
       "      <td>NaN</td>\n",
       "    </tr>\n",
       "    <tr>\n",
       "      <th>cylinders</th>\n",
       "      <td>51525.0</td>\n",
       "      <td>&lt;NA&gt;</td>\n",
       "      <td>&lt;NA&gt;</td>\n",
       "      <td>&lt;NA&gt;</td>\n",
       "      <td>6.12623</td>\n",
       "      <td>3.0</td>\n",
       "      <td>4.0</td>\n",
       "      <td>6.0</td>\n",
       "      <td>8.0</td>\n",
       "      <td>12.0</td>\n",
       "      <td>1.583377</td>\n",
       "    </tr>\n",
       "    <tr>\n",
       "      <th>fuel</th>\n",
       "      <td>51525</td>\n",
       "      <td>5</td>\n",
       "      <td>gas</td>\n",
       "      <td>47288</td>\n",
       "      <td>NaN</td>\n",
       "      <td>NaN</td>\n",
       "      <td>NaN</td>\n",
       "      <td>NaN</td>\n",
       "      <td>NaN</td>\n",
       "      <td>NaN</td>\n",
       "      <td>NaN</td>\n",
       "    </tr>\n",
       "    <tr>\n",
       "      <th>odometer</th>\n",
       "      <td>51523.0</td>\n",
       "      <td>NaN</td>\n",
       "      <td>NaN</td>\n",
       "      <td>NaN</td>\n",
       "      <td>114986.378666</td>\n",
       "      <td>0.0</td>\n",
       "      <td>71000.0</td>\n",
       "      <td>110439.0</td>\n",
       "      <td>151890.0</td>\n",
       "      <td>500000.0</td>\n",
       "      <td>60879.967562</td>\n",
       "    </tr>\n",
       "    <tr>\n",
       "      <th>transmission</th>\n",
       "      <td>51525</td>\n",
       "      <td>3</td>\n",
       "      <td>automatic</td>\n",
       "      <td>46902</td>\n",
       "      <td>NaN</td>\n",
       "      <td>NaN</td>\n",
       "      <td>NaN</td>\n",
       "      <td>NaN</td>\n",
       "      <td>NaN</td>\n",
       "      <td>NaN</td>\n",
       "      <td>NaN</td>\n",
       "    </tr>\n",
       "    <tr>\n",
       "      <th>type</th>\n",
       "      <td>51525</td>\n",
       "      <td>13</td>\n",
       "      <td>suv</td>\n",
       "      <td>12405</td>\n",
       "      <td>NaN</td>\n",
       "      <td>NaN</td>\n",
       "      <td>NaN</td>\n",
       "      <td>NaN</td>\n",
       "      <td>NaN</td>\n",
       "      <td>NaN</td>\n",
       "      <td>NaN</td>\n",
       "    </tr>\n",
       "    <tr>\n",
       "      <th>paint_color</th>\n",
       "      <td>51525</td>\n",
       "      <td>13</td>\n",
       "      <td>white</td>\n",
       "      <td>10029</td>\n",
       "      <td>NaN</td>\n",
       "      <td>NaN</td>\n",
       "      <td>NaN</td>\n",
       "      <td>NaN</td>\n",
       "      <td>NaN</td>\n",
       "      <td>NaN</td>\n",
       "      <td>NaN</td>\n",
       "    </tr>\n",
       "    <tr>\n",
       "      <th>is_4wd</th>\n",
       "      <td>51525</td>\n",
       "      <td>2</td>\n",
       "      <td>False</td>\n",
       "      <td>25953</td>\n",
       "      <td>NaN</td>\n",
       "      <td>NaN</td>\n",
       "      <td>NaN</td>\n",
       "      <td>NaN</td>\n",
       "      <td>NaN</td>\n",
       "      <td>NaN</td>\n",
       "      <td>NaN</td>\n",
       "    </tr>\n",
       "    <tr>\n",
       "      <th>date_posted</th>\n",
       "      <td>51525</td>\n",
       "      <td>NaN</td>\n",
       "      <td>NaN</td>\n",
       "      <td>NaN</td>\n",
       "      <td>2018-10-25 01:57:46.270742528</td>\n",
       "      <td>2018-05-01 00:00:00</td>\n",
       "      <td>2018-07-29 00:00:00</td>\n",
       "      <td>2018-10-25 00:00:00</td>\n",
       "      <td>2019-01-21 00:00:00</td>\n",
       "      <td>2019-04-19 00:00:00</td>\n",
       "      <td>NaN</td>\n",
       "    </tr>\n",
       "    <tr>\n",
       "      <th>days_listed</th>\n",
       "      <td>51525.0</td>\n",
       "      <td>NaN</td>\n",
       "      <td>NaN</td>\n",
       "      <td>NaN</td>\n",
       "      <td>39.55476</td>\n",
       "      <td>0.0</td>\n",
       "      <td>19.0</td>\n",
       "      <td>33.0</td>\n",
       "      <td>53.0</td>\n",
       "      <td>271.0</td>\n",
       "      <td>28.20427</td>\n",
       "    </tr>\n",
       "    <tr>\n",
       "      <th>vehicle_age</th>\n",
       "      <td>51525.0</td>\n",
       "      <td>&lt;NA&gt;</td>\n",
       "      <td>&lt;NA&gt;</td>\n",
       "      <td>&lt;NA&gt;</td>\n",
       "      <td>15.206443</td>\n",
       "      <td>6.0</td>\n",
       "      <td>11.0</td>\n",
       "      <td>14.0</td>\n",
       "      <td>18.0</td>\n",
       "      <td>117.0</td>\n",
       "      <td>6.099381</td>\n",
       "    </tr>\n",
       "    <tr>\n",
       "      <th>days_since_post</th>\n",
       "      <td>51525.0</td>\n",
       "      <td>NaN</td>\n",
       "      <td>NaN</td>\n",
       "      <td>NaN</td>\n",
       "      <td>2386.918214</td>\n",
       "      <td>2211.0</td>\n",
       "      <td>2299.0</td>\n",
       "      <td>2387.0</td>\n",
       "      <td>2475.0</td>\n",
       "      <td>2564.0</td>\n",
       "      <td>102.026606</td>\n",
       "    </tr>\n",
       "  </tbody>\n",
       "</table>\n",
       "</div>"
      ],
      "text/plain": [
       "                   count unique         top   freq  \\\n",
       "price            51525.0    NaN         NaN    NaN   \n",
       "model_year       51525.0   <NA>        <NA>   <NA>   \n",
       "model              51525    100  ford f-150   2796   \n",
       "condition          51525      6   excellent  24773   \n",
       "cylinders        51525.0   <NA>        <NA>   <NA>   \n",
       "fuel               51525      5         gas  47288   \n",
       "odometer         51523.0    NaN         NaN    NaN   \n",
       "transmission       51525      3   automatic  46902   \n",
       "type               51525     13         suv  12405   \n",
       "paint_color        51525     13       white  10029   \n",
       "is_4wd             51525      2       False  25953   \n",
       "date_posted        51525    NaN         NaN    NaN   \n",
       "days_listed      51525.0    NaN         NaN    NaN   \n",
       "vehicle_age      51525.0   <NA>        <NA>   <NA>   \n",
       "days_since_post  51525.0    NaN         NaN    NaN   \n",
       "\n",
       "                                          mean                  min  \\\n",
       "price                             12123.021679                500.0   \n",
       "model_year                         2009.793557               1908.0   \n",
       "model                                      NaN                  NaN   \n",
       "condition                                  NaN                  NaN   \n",
       "cylinders                              6.12623                  3.0   \n",
       "fuel                                       NaN                  NaN   \n",
       "odometer                         114986.378666                  0.0   \n",
       "transmission                               NaN                  NaN   \n",
       "type                                       NaN                  NaN   \n",
       "paint_color                                NaN                  NaN   \n",
       "is_4wd                                     NaN                  NaN   \n",
       "date_posted      2018-10-25 01:57:46.270742528  2018-05-01 00:00:00   \n",
       "days_listed                           39.55476                  0.0   \n",
       "vehicle_age                          15.206443                  6.0   \n",
       "days_since_post                    2386.918214               2211.0   \n",
       "\n",
       "                                 25%                  50%  \\\n",
       "price                         5000.0               9000.0   \n",
       "model_year                    2007.0               2011.0   \n",
       "model                            NaN                  NaN   \n",
       "condition                        NaN                  NaN   \n",
       "cylinders                        4.0                  6.0   \n",
       "fuel                             NaN                  NaN   \n",
       "odometer                     71000.0             110439.0   \n",
       "transmission                     NaN                  NaN   \n",
       "type                             NaN                  NaN   \n",
       "paint_color                      NaN                  NaN   \n",
       "is_4wd                           NaN                  NaN   \n",
       "date_posted      2018-07-29 00:00:00  2018-10-25 00:00:00   \n",
       "days_listed                     19.0                 33.0   \n",
       "vehicle_age                     11.0                 14.0   \n",
       "days_since_post               2299.0               2387.0   \n",
       "\n",
       "                                 75%                  max           std  \n",
       "price                        16839.0             120000.0   9698.364543  \n",
       "model_year                    2014.0               2019.0      6.099381  \n",
       "model                            NaN                  NaN           NaN  \n",
       "condition                        NaN                  NaN           NaN  \n",
       "cylinders                        8.0                 12.0      1.583377  \n",
       "fuel                             NaN                  NaN           NaN  \n",
       "odometer                    151890.0             500000.0  60879.967562  \n",
       "transmission                     NaN                  NaN           NaN  \n",
       "type                             NaN                  NaN           NaN  \n",
       "paint_color                      NaN                  NaN           NaN  \n",
       "is_4wd                           NaN                  NaN           NaN  \n",
       "date_posted      2019-01-21 00:00:00  2019-04-19 00:00:00           NaN  \n",
       "days_listed                     53.0                271.0      28.20427  \n",
       "vehicle_age                     18.0                117.0      6.099381  \n",
       "days_since_post               2475.0               2564.0    102.026606  "
      ]
     },
     "metadata": {},
     "output_type": "display_data"
    }
   ],
   "source": [
    "#auditing again \n",
    "display(df.info())\n",
    "display(df.describe(include=\"all\").T.head(15))"
   ]
  },
  {
   "cell_type": "code",
   "execution_count": 43,
   "id": "dad43402",
   "metadata": {},
   "outputs": [
    {
     "data": {
      "text/html": [
       "<div>\n",
       "<style scoped>\n",
       "    .dataframe tbody tr th:only-of-type {\n",
       "        vertical-align: middle;\n",
       "    }\n",
       "\n",
       "    .dataframe tbody tr th {\n",
       "        vertical-align: top;\n",
       "    }\n",
       "\n",
       "    .dataframe thead th {\n",
       "        text-align: right;\n",
       "    }\n",
       "</style>\n",
       "<table border=\"1\" class=\"dataframe\">\n",
       "  <thead>\n",
       "    <tr style=\"text-align: right;\">\n",
       "      <th></th>\n",
       "      <th>price</th>\n",
       "      <th>model</th>\n",
       "      <th>fuel</th>\n",
       "      <th>model_year</th>\n",
       "      <th>vehicle_age</th>\n",
       "      <th>odometer</th>\n",
       "    </tr>\n",
       "  </thead>\n",
       "  <tbody>\n",
       "    <tr>\n",
       "      <th>33906</th>\n",
       "      <td>12995</td>\n",
       "      <td>gmc yukon</td>\n",
       "      <td>gas</td>\n",
       "      <td>1908</td>\n",
       "      <td>117</td>\n",
       "      <td>NaN</td>\n",
       "    </tr>\n",
       "    <tr>\n",
       "      <th>33907</th>\n",
       "      <td>12995</td>\n",
       "      <td>cadillac escalade</td>\n",
       "      <td>gas</td>\n",
       "      <td>1908</td>\n",
       "      <td>117</td>\n",
       "      <td>NaN</td>\n",
       "    </tr>\n",
       "  </tbody>\n",
       "</table>\n",
       "</div>"
      ],
      "text/plain": [
       "       price              model fuel  model_year  vehicle_age  odometer\n",
       "33906  12995          gmc yukon  gas        1908          117       NaN\n",
       "33907  12995  cadillac escalade  gas        1908          117       NaN"
      ]
     },
     "metadata": {},
     "output_type": "display_data"
    },
    {
     "name": "stdout",
     "output_type": "stream",
     "text": [
      "Rows with NaN odometer: 2\n"
     ]
    }
   ],
   "source": [
    "missing_rows = df[df[\"odometer\"].isna()]\n",
    "display(missing_rows[[\"price\", \"model\", \"fuel\", \"model_year\",\n",
    "                      \"vehicle_age\", \"odometer\"]].head())\n",
    "print(f\"Rows with NaN odometer: {len(missing_rows)}\")"
   ]
  },
  {
   "cell_type": "code",
   "execution_count": 44,
   "id": "a35c9b28",
   "metadata": {},
   "outputs": [],
   "source": [
    "df[\"odometer\"] = df[\"odometer\"].fillna(df[\"odometer\"].median())"
   ]
  },
  {
   "cell_type": "code",
   "execution_count": 45,
   "id": "cd7795d5",
   "metadata": {},
   "outputs": [
    {
     "name": "stdout",
     "output_type": "stream",
     "text": [
      "0\n"
     ]
    }
   ],
   "source": [
    "print(df[\"odometer\"].isna().sum()) "
   ]
  },
  {
   "cell_type": "code",
   "execution_count": 46,
   "id": "0b2e1e8e",
   "metadata": {},
   "outputs": [
    {
     "name": "stdout",
     "output_type": "stream",
     "text": [
      "<class 'pandas.core.frame.DataFrame'>\n",
      "RangeIndex: 51525 entries, 0 to 51524\n",
      "Data columns (total 15 columns):\n",
      " #   Column           Non-Null Count  Dtype         \n",
      "---  ------           --------------  -----         \n",
      " 0   price            51525 non-null  int64         \n",
      " 1   model_year       51525 non-null  Int64         \n",
      " 2   model            51525 non-null  object        \n",
      " 3   condition        51525 non-null  object        \n",
      " 4   cylinders        51525 non-null  Int64         \n",
      " 5   fuel             51525 non-null  object        \n",
      " 6   odometer         51525 non-null  float64       \n",
      " 7   transmission     51525 non-null  object        \n",
      " 8   type             51525 non-null  object        \n",
      " 9   paint_color      51525 non-null  object        \n",
      " 10  is_4wd           51525 non-null  bool          \n",
      " 11  date_posted      51525 non-null  datetime64[ns]\n",
      " 12  days_listed      51525 non-null  int64         \n",
      " 13  vehicle_age      51525 non-null  Int64         \n",
      " 14  days_since_post  51525 non-null  int64         \n",
      "dtypes: Int64(3), bool(1), datetime64[ns](1), float64(1), int64(3), object(6)\n",
      "memory usage: 5.7+ MB\n"
     ]
    },
    {
     "data": {
      "text/plain": [
       "None"
      ]
     },
     "metadata": {},
     "output_type": "display_data"
    },
    {
     "data": {
      "text/html": [
       "<div>\n",
       "<style scoped>\n",
       "    .dataframe tbody tr th:only-of-type {\n",
       "        vertical-align: middle;\n",
       "    }\n",
       "\n",
       "    .dataframe tbody tr th {\n",
       "        vertical-align: top;\n",
       "    }\n",
       "\n",
       "    .dataframe thead th {\n",
       "        text-align: right;\n",
       "    }\n",
       "</style>\n",
       "<table border=\"1\" class=\"dataframe\">\n",
       "  <thead>\n",
       "    <tr style=\"text-align: right;\">\n",
       "      <th></th>\n",
       "      <th>count</th>\n",
       "      <th>unique</th>\n",
       "      <th>top</th>\n",
       "      <th>freq</th>\n",
       "      <th>mean</th>\n",
       "      <th>min</th>\n",
       "      <th>25%</th>\n",
       "      <th>50%</th>\n",
       "      <th>75%</th>\n",
       "      <th>max</th>\n",
       "      <th>std</th>\n",
       "    </tr>\n",
       "  </thead>\n",
       "  <tbody>\n",
       "    <tr>\n",
       "      <th>price</th>\n",
       "      <td>51525.0</td>\n",
       "      <td>NaN</td>\n",
       "      <td>NaN</td>\n",
       "      <td>NaN</td>\n",
       "      <td>12123.021679</td>\n",
       "      <td>500.0</td>\n",
       "      <td>5000.0</td>\n",
       "      <td>9000.0</td>\n",
       "      <td>16839.0</td>\n",
       "      <td>120000.0</td>\n",
       "      <td>9698.364543</td>\n",
       "    </tr>\n",
       "    <tr>\n",
       "      <th>model_year</th>\n",
       "      <td>51525.0</td>\n",
       "      <td>&lt;NA&gt;</td>\n",
       "      <td>&lt;NA&gt;</td>\n",
       "      <td>&lt;NA&gt;</td>\n",
       "      <td>2009.793557</td>\n",
       "      <td>1908.0</td>\n",
       "      <td>2007.0</td>\n",
       "      <td>2011.0</td>\n",
       "      <td>2014.0</td>\n",
       "      <td>2019.0</td>\n",
       "      <td>6.099381</td>\n",
       "    </tr>\n",
       "    <tr>\n",
       "      <th>model</th>\n",
       "      <td>51525</td>\n",
       "      <td>100</td>\n",
       "      <td>ford f-150</td>\n",
       "      <td>2796</td>\n",
       "      <td>NaN</td>\n",
       "      <td>NaN</td>\n",
       "      <td>NaN</td>\n",
       "      <td>NaN</td>\n",
       "      <td>NaN</td>\n",
       "      <td>NaN</td>\n",
       "      <td>NaN</td>\n",
       "    </tr>\n",
       "    <tr>\n",
       "      <th>condition</th>\n",
       "      <td>51525</td>\n",
       "      <td>6</td>\n",
       "      <td>excellent</td>\n",
       "      <td>24773</td>\n",
       "      <td>NaN</td>\n",
       "      <td>NaN</td>\n",
       "      <td>NaN</td>\n",
       "      <td>NaN</td>\n",
       "      <td>NaN</td>\n",
       "      <td>NaN</td>\n",
       "      <td>NaN</td>\n",
       "    </tr>\n",
       "    <tr>\n",
       "      <th>cylinders</th>\n",
       "      <td>51525.0</td>\n",
       "      <td>&lt;NA&gt;</td>\n",
       "      <td>&lt;NA&gt;</td>\n",
       "      <td>&lt;NA&gt;</td>\n",
       "      <td>6.12623</td>\n",
       "      <td>3.0</td>\n",
       "      <td>4.0</td>\n",
       "      <td>6.0</td>\n",
       "      <td>8.0</td>\n",
       "      <td>12.0</td>\n",
       "      <td>1.583377</td>\n",
       "    </tr>\n",
       "    <tr>\n",
       "      <th>fuel</th>\n",
       "      <td>51525</td>\n",
       "      <td>5</td>\n",
       "      <td>gas</td>\n",
       "      <td>47288</td>\n",
       "      <td>NaN</td>\n",
       "      <td>NaN</td>\n",
       "      <td>NaN</td>\n",
       "      <td>NaN</td>\n",
       "      <td>NaN</td>\n",
       "      <td>NaN</td>\n",
       "      <td>NaN</td>\n",
       "    </tr>\n",
       "    <tr>\n",
       "      <th>odometer</th>\n",
       "      <td>51525.0</td>\n",
       "      <td>NaN</td>\n",
       "      <td>NaN</td>\n",
       "      <td>NaN</td>\n",
       "      <td>114986.202154</td>\n",
       "      <td>0.0</td>\n",
       "      <td>71000.0</td>\n",
       "      <td>110439.0</td>\n",
       "      <td>151890.0</td>\n",
       "      <td>500000.0</td>\n",
       "      <td>60878.792558</td>\n",
       "    </tr>\n",
       "    <tr>\n",
       "      <th>transmission</th>\n",
       "      <td>51525</td>\n",
       "      <td>3</td>\n",
       "      <td>automatic</td>\n",
       "      <td>46902</td>\n",
       "      <td>NaN</td>\n",
       "      <td>NaN</td>\n",
       "      <td>NaN</td>\n",
       "      <td>NaN</td>\n",
       "      <td>NaN</td>\n",
       "      <td>NaN</td>\n",
       "      <td>NaN</td>\n",
       "    </tr>\n",
       "    <tr>\n",
       "      <th>type</th>\n",
       "      <td>51525</td>\n",
       "      <td>13</td>\n",
       "      <td>suv</td>\n",
       "      <td>12405</td>\n",
       "      <td>NaN</td>\n",
       "      <td>NaN</td>\n",
       "      <td>NaN</td>\n",
       "      <td>NaN</td>\n",
       "      <td>NaN</td>\n",
       "      <td>NaN</td>\n",
       "      <td>NaN</td>\n",
       "    </tr>\n",
       "    <tr>\n",
       "      <th>paint_color</th>\n",
       "      <td>51525</td>\n",
       "      <td>13</td>\n",
       "      <td>white</td>\n",
       "      <td>10029</td>\n",
       "      <td>NaN</td>\n",
       "      <td>NaN</td>\n",
       "      <td>NaN</td>\n",
       "      <td>NaN</td>\n",
       "      <td>NaN</td>\n",
       "      <td>NaN</td>\n",
       "      <td>NaN</td>\n",
       "    </tr>\n",
       "    <tr>\n",
       "      <th>is_4wd</th>\n",
       "      <td>51525</td>\n",
       "      <td>2</td>\n",
       "      <td>False</td>\n",
       "      <td>25953</td>\n",
       "      <td>NaN</td>\n",
       "      <td>NaN</td>\n",
       "      <td>NaN</td>\n",
       "      <td>NaN</td>\n",
       "      <td>NaN</td>\n",
       "      <td>NaN</td>\n",
       "      <td>NaN</td>\n",
       "    </tr>\n",
       "    <tr>\n",
       "      <th>date_posted</th>\n",
       "      <td>51525</td>\n",
       "      <td>NaN</td>\n",
       "      <td>NaN</td>\n",
       "      <td>NaN</td>\n",
       "      <td>2018-10-25 01:57:46.270742528</td>\n",
       "      <td>2018-05-01 00:00:00</td>\n",
       "      <td>2018-07-29 00:00:00</td>\n",
       "      <td>2018-10-25 00:00:00</td>\n",
       "      <td>2019-01-21 00:00:00</td>\n",
       "      <td>2019-04-19 00:00:00</td>\n",
       "      <td>NaN</td>\n",
       "    </tr>\n",
       "    <tr>\n",
       "      <th>days_listed</th>\n",
       "      <td>51525.0</td>\n",
       "      <td>NaN</td>\n",
       "      <td>NaN</td>\n",
       "      <td>NaN</td>\n",
       "      <td>39.55476</td>\n",
       "      <td>0.0</td>\n",
       "      <td>19.0</td>\n",
       "      <td>33.0</td>\n",
       "      <td>53.0</td>\n",
       "      <td>271.0</td>\n",
       "      <td>28.20427</td>\n",
       "    </tr>\n",
       "    <tr>\n",
       "      <th>vehicle_age</th>\n",
       "      <td>51525.0</td>\n",
       "      <td>&lt;NA&gt;</td>\n",
       "      <td>&lt;NA&gt;</td>\n",
       "      <td>&lt;NA&gt;</td>\n",
       "      <td>15.206443</td>\n",
       "      <td>6.0</td>\n",
       "      <td>11.0</td>\n",
       "      <td>14.0</td>\n",
       "      <td>18.0</td>\n",
       "      <td>117.0</td>\n",
       "      <td>6.099381</td>\n",
       "    </tr>\n",
       "    <tr>\n",
       "      <th>days_since_post</th>\n",
       "      <td>51525.0</td>\n",
       "      <td>NaN</td>\n",
       "      <td>NaN</td>\n",
       "      <td>NaN</td>\n",
       "      <td>2386.918214</td>\n",
       "      <td>2211.0</td>\n",
       "      <td>2299.0</td>\n",
       "      <td>2387.0</td>\n",
       "      <td>2475.0</td>\n",
       "      <td>2564.0</td>\n",
       "      <td>102.026606</td>\n",
       "    </tr>\n",
       "  </tbody>\n",
       "</table>\n",
       "</div>"
      ],
      "text/plain": [
       "                   count unique         top   freq  \\\n",
       "price            51525.0    NaN         NaN    NaN   \n",
       "model_year       51525.0   <NA>        <NA>   <NA>   \n",
       "model              51525    100  ford f-150   2796   \n",
       "condition          51525      6   excellent  24773   \n",
       "cylinders        51525.0   <NA>        <NA>   <NA>   \n",
       "fuel               51525      5         gas  47288   \n",
       "odometer         51525.0    NaN         NaN    NaN   \n",
       "transmission       51525      3   automatic  46902   \n",
       "type               51525     13         suv  12405   \n",
       "paint_color        51525     13       white  10029   \n",
       "is_4wd             51525      2       False  25953   \n",
       "date_posted        51525    NaN         NaN    NaN   \n",
       "days_listed      51525.0    NaN         NaN    NaN   \n",
       "vehicle_age      51525.0   <NA>        <NA>   <NA>   \n",
       "days_since_post  51525.0    NaN         NaN    NaN   \n",
       "\n",
       "                                          mean                  min  \\\n",
       "price                             12123.021679                500.0   \n",
       "model_year                         2009.793557               1908.0   \n",
       "model                                      NaN                  NaN   \n",
       "condition                                  NaN                  NaN   \n",
       "cylinders                              6.12623                  3.0   \n",
       "fuel                                       NaN                  NaN   \n",
       "odometer                         114986.202154                  0.0   \n",
       "transmission                               NaN                  NaN   \n",
       "type                                       NaN                  NaN   \n",
       "paint_color                                NaN                  NaN   \n",
       "is_4wd                                     NaN                  NaN   \n",
       "date_posted      2018-10-25 01:57:46.270742528  2018-05-01 00:00:00   \n",
       "days_listed                           39.55476                  0.0   \n",
       "vehicle_age                          15.206443                  6.0   \n",
       "days_since_post                    2386.918214               2211.0   \n",
       "\n",
       "                                 25%                  50%  \\\n",
       "price                         5000.0               9000.0   \n",
       "model_year                    2007.0               2011.0   \n",
       "model                            NaN                  NaN   \n",
       "condition                        NaN                  NaN   \n",
       "cylinders                        4.0                  6.0   \n",
       "fuel                             NaN                  NaN   \n",
       "odometer                     71000.0             110439.0   \n",
       "transmission                     NaN                  NaN   \n",
       "type                             NaN                  NaN   \n",
       "paint_color                      NaN                  NaN   \n",
       "is_4wd                           NaN                  NaN   \n",
       "date_posted      2018-07-29 00:00:00  2018-10-25 00:00:00   \n",
       "days_listed                     19.0                 33.0   \n",
       "vehicle_age                     11.0                 14.0   \n",
       "days_since_post               2299.0               2387.0   \n",
       "\n",
       "                                 75%                  max           std  \n",
       "price                        16839.0             120000.0   9698.364543  \n",
       "model_year                    2014.0               2019.0      6.099381  \n",
       "model                            NaN                  NaN           NaN  \n",
       "condition                        NaN                  NaN           NaN  \n",
       "cylinders                        8.0                 12.0      1.583377  \n",
       "fuel                             NaN                  NaN           NaN  \n",
       "odometer                    151890.0             500000.0  60878.792558  \n",
       "transmission                     NaN                  NaN           NaN  \n",
       "type                             NaN                  NaN           NaN  \n",
       "paint_color                      NaN                  NaN           NaN  \n",
       "is_4wd                           NaN                  NaN           NaN  \n",
       "date_posted      2019-01-21 00:00:00  2019-04-19 00:00:00           NaN  \n",
       "days_listed                     53.0                271.0      28.20427  \n",
       "vehicle_age                     18.0                117.0      6.099381  \n",
       "days_since_post               2475.0               2564.0    102.026606  "
      ]
     },
     "metadata": {},
     "output_type": "display_data"
    }
   ],
   "source": [
    "#auditing again \n",
    "display(df.info())\n",
    "display(df.describe(include=\"all\").T.head(15))"
   ]
  },
  {
   "cell_type": "code",
   "execution_count": 48,
   "id": "3b6917ca",
   "metadata": {},
   "outputs": [
    {
     "data": {
      "application/vnd.plotly.v1+json": {
       "config": {
        "plotlyServerURL": "https://plot.ly"
       },
       "data": [
        {
         "bingroup": "x",
         "hovertemplate": "condition=good<br>Price (USD)=%{x}<br>count=%{y}<extra></extra>",
         "legendgroup": "",
         "marker": {
          "color": "#000001",
          "pattern": {
           "shape": ""
          }
         },
         "name": "",
         "nbinsx": 60,
         "orientation": "v",
         "showlegend": false,
         "type": "histogram",
         "x": {
          "bdata": "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",
          "dtype": "i4"
         },
         "xaxis": "x",
         "yaxis": "y"
        },
        {
         "bingroup": "x",
         "hovertemplate": "condition=like new<br>Price (USD)=%{x}<br>count=%{y}<extra></extra>",
         "legendgroup": "",
         "marker": {
          "color": "#000001",
          "pattern": {
           "shape": ""
          }
         },
         "name": "",
         "nbinsx": 60,
         "orientation": "v",
         "showlegend": false,
         "type": "histogram",
         "x": {
          "bdata": "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",
          "dtype": "i4"
         },
         "xaxis": "x2",
         "yaxis": "y2"
        },
        {
         "bingroup": "x",
         "hovertemplate": "condition=fair<br>Price (USD)=%{x}<br>count=%{y}<extra></extra>",
         "legendgroup": "",
         "marker": {
          "color": "#000001",
          "pattern": {
           "shape": ""
          }
         },
         "name": "",
         "nbinsx": 60,
         "orientation": "v",
         "showlegend": false,
         "type": "histogram",
         "x": {
          "bdata": "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",
          "dtype": "i4"
         },
         "xaxis": "x3",
         "yaxis": "y3"
        },
        {
         "bingroup": "x",
         "hovertemplate": "condition=excellent<br>Price (USD)=%{x}<br>count=%{y}<extra></extra>",
         "legendgroup": "",
         "marker": {
          "color": "#000001",
          "pattern": {
           "shape": ""
          }
         },
         "name": "",
         "nbinsx": 60,
         "orientation": "v",
         "showlegend": false,
         "type": "histogram",
         "x": {
          "bdata": "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",
          "dtype": "i4"
         },
         "xaxis": "x4",
         "yaxis": "y4"
        },
        {
         "bingroup": "x",
         "hovertemplate": "condition=salvage<br>Price (USD)=%{x}<br>count=%{y}<extra></extra>",
         "legendgroup": "",
         "marker": {
          "color": "#000001",
          "pattern": {
           "shape": ""
          }
         },
         "name": "",
         "nbinsx": 60,
         "orientation": "v",
         "showlegend": false,
         "type": "histogram",
         "x": {
          "bdata": "WALoA3wV5wNSA4gTQB/ECQgH6APcBQgHQB9EAowK+CogAyAD2A4EEGQy9AFESLw0fBWEA1IDlBGmDvBVIAOkBuok0AfcBYgToA8gA8gyIAOYOoYL3AWsDSADzCn3JngFsASsDSADDlEuIpAzXhqGC78JYAmMCsQJIAOwBLAE6AOUEfQBXBLoA6wNUBQOUS4iFSLuAogTpAa4C7gLcBfECbwCZhf0AcQJygiKArwC6ANsB1gCWBvoA9wFWBvAEvQB0Ae8ArgLiBNYG/QBrCbcBYgTpDj0AdwF6ANSA/QBrA2IE1QLjAo=",
          "dtype": "i2"
         },
         "xaxis": "x5",
         "yaxis": "y5"
        },
        {
         "bingroup": "x",
         "hovertemplate": "condition=new<br>Price (USD)=%{x}<br>count=%{y}<extra></extra>",
         "legendgroup": "",
         "marker": {
          "color": "#000001",
          "pattern": {
           "shape": ""
          }
         },
         "name": "",
         "nbinsx": 60,
         "orientation": "v",
         "showlegend": false,
         "type": "histogram",
         "x": {
          "bdata": "0IQAADB1AADZrQAA2FkAAFgbAABsIAAA4CgBAJBlAABykgAAcpIAAJQRAAD0fgAAXBIAAPQBAACkSwEAOBgAAEwdAAAMMAAA9AEAALyxAABgbQAAlBEAAEgmAACAJQAApDgAAMx0AACbDwAAYAkAAJsPAAAQpAAABKYAAPQBAABuggAAVhMAAMMyAACcGAAAVhMAAHBJAAD0AQAA4C4AAGwgAAAbywAAhOQAALiIAADcBQAAmw8AAFgbAAD0AQAA9AEAAGBtAACvrQEAXEQAANhZAAAjIwAA/CEAAFQLAADECQAA9AEAAPgqAAA2QgAAZjoAAMQ7AADw0gAAkJcAAJM6AAAcogAANCEAAEtGAABwlAAA2NYAAJQRAADqswAA3B4AAD7XAAAdZAAADpYAAGnDAACKswAA7fsAAEijAAC0zgAAFHgAAP1XAADE2gAAxNoAADB1AACCVgAAHWQAAO37AADAVAAAzHQAAKY2AABIcQAAZBkAAJQRAACHEwAA+CoAAPAjAABIPwAAv10AAFBGAACQZQAA1DAAAPSXAAAIxQAA/VcAAO37AAAwdQAAjo4AAPuNAAD7jQAA+40AAKaNAAAK+gAAuNwAAC2yAABOuwAAmJMAALjcAAAtsgAAMHUAAM8gAAB4tAAApDgAAO9VAABzQAAADBEBACBOAABIJgAAgAwAAOj9AAC8GwAAHFcAAFMbAAAIOQAA2A4AAEw2AADuTQAAkBoAAAggAAA4SgAA0AEBADNKAAA=",
          "dtype": "i4"
         },
         "xaxis": "x6",
         "yaxis": "y6"
        }
       ],
       "layout": {
        "annotations": [
         {
          "font": {},
          "showarrow": false,
          "text": "condition=good",
          "x": 0.075,
          "xanchor": "center",
          "xref": "paper",
          "y": 1,
          "yanchor": "bottom",
          "yref": "paper"
         },
         {
          "font": {},
          "showarrow": false,
          "text": "condition=like new",
          "x": 0.24499999999999997,
          "xanchor": "center",
          "xref": "paper",
          "y": 1,
          "yanchor": "bottom",
          "yref": "paper"
         },
         {
          "font": {},
          "showarrow": false,
          "text": "condition=fair",
          "x": 0.415,
          "xanchor": "center",
          "xref": "paper",
          "y": 1,
          "yanchor": "bottom",
          "yref": "paper"
         },
         {
          "font": {},
          "showarrow": false,
          "text": "condition=excellent",
          "x": 0.585,
          "xanchor": "center",
          "xref": "paper",
          "y": 1,
          "yanchor": "bottom",
          "yref": "paper"
         },
         {
          "font": {},
          "showarrow": false,
          "text": "condition=salvage",
          "x": 0.7549999999999999,
          "xanchor": "center",
          "xref": "paper",
          "y": 1,
          "yanchor": "bottom",
          "yref": "paper"
         },
         {
          "font": {},
          "showarrow": false,
          "text": "condition=new",
          "x": 0.925,
          "xanchor": "center",
          "xref": "paper",
          "y": 1,
          "yanchor": "bottom",
          "yref": "paper"
         }
        ],
        "barmode": "relative",
        "legend": {
         "tracegroupgap": 0
        },
        "template": {
         "data": {
          "candlestick": [
           {
            "decreasing": {
             "line": {
              "color": "#000033"
             }
            },
            "increasing": {
             "line": {
              "color": "#000032"
             }
            },
            "type": "candlestick"
           }
          ],
          "contour": [
           {
            "colorscale": [
             [
              0,
              "#000011"
             ],
             [
              0.1111111111111111,
              "#000012"
             ],
             [
              0.2222222222222222,
              "#000013"
             ],
             [
              0.3333333333333333,
              "#000014"
             ],
             [
              0.4444444444444444,
              "#000015"
             ],
             [
              0.5555555555555556,
              "#000016"
             ],
             [
              0.6666666666666666,
              "#000017"
             ],
             [
              0.7777777777777778,
              "#000018"
             ],
             [
              0.8888888888888888,
              "#000019"
             ],
             [
              1,
              "#000020"
             ]
            ],
            "type": "contour"
           }
          ],
          "contourcarpet": [
           {
            "colorscale": [
             [
              0,
              "#000011"
             ],
             [
              0.1111111111111111,
              "#000012"
             ],
             [
              0.2222222222222222,
              "#000013"
             ],
             [
              0.3333333333333333,
              "#000014"
             ],
             [
              0.4444444444444444,
              "#000015"
             ],
             [
              0.5555555555555556,
              "#000016"
             ],
             [
              0.6666666666666666,
              "#000017"
             ],
             [
              0.7777777777777778,
              "#000018"
             ],
             [
              0.8888888888888888,
              "#000019"
             ],
             [
              1,
              "#000020"
             ]
            ],
            "type": "contourcarpet"
           }
          ],
          "heatmap": [
           {
            "colorscale": [
             [
              0,
              "#000011"
             ],
             [
              0.1111111111111111,
              "#000012"
             ],
             [
              0.2222222222222222,
              "#000013"
             ],
             [
              0.3333333333333333,
              "#000014"
             ],
             [
              0.4444444444444444,
              "#000015"
             ],
             [
              0.5555555555555556,
              "#000016"
             ],
             [
              0.6666666666666666,
              "#000017"
             ],
             [
              0.7777777777777778,
              "#000018"
             ],
             [
              0.8888888888888888,
              "#000019"
             ],
             [
              1,
              "#000020"
             ]
            ],
            "type": "heatmap"
           }
          ],
          "histogram2d": [
           {
            "colorscale": [
             [
              0,
              "#000011"
             ],
             [
              0.1111111111111111,
              "#000012"
             ],
             [
              0.2222222222222222,
              "#000013"
             ],
             [
              0.3333333333333333,
              "#000014"
             ],
             [
              0.4444444444444444,
              "#000015"
             ],
             [
              0.5555555555555556,
              "#000016"
             ],
             [
              0.6666666666666666,
              "#000017"
             ],
             [
              0.7777777777777778,
              "#000018"
             ],
             [
              0.8888888888888888,
              "#000019"
             ],
             [
              1,
              "#000020"
             ]
            ],
            "type": "histogram2d"
           }
          ],
          "icicle": [
           {
            "textfont": {
             "color": "white"
            },
            "type": "icicle"
           }
          ],
          "sankey": [
           {
            "textfont": {
             "color": "#000036"
            },
            "type": "sankey"
           }
          ],
          "scatter": [
           {
            "marker": {
             "line": {
              "width": 0
             }
            },
            "type": "scatter"
           }
          ],
          "table": [
           {
            "cells": {
             "fill": {
              "color": "#000038"
             },
             "font": {
              "color": "#000037"
             },
             "line": {
              "color": "#000039"
             }
            },
            "header": {
             "fill": {
              "color": "#000040"
             },
             "font": {
              "color": "#000036"
             },
             "line": {
              "color": "#000039"
             }
            },
            "type": "table"
           }
          ],
          "waterfall": [
           {
            "connector": {
             "line": {
              "color": "#000036",
              "width": 2
             }
            },
            "decreasing": {
             "marker": {
              "color": "#000033"
             }
            },
            "increasing": {
             "marker": {
              "color": "#000032"
             }
            },
            "totals": {
             "marker": {
              "color": "#000034"
             }
            },
            "type": "waterfall"
           }
          ]
         },
         "layout": {
          "coloraxis": {
           "colorscale": [
            [
             0,
             "#000011"
            ],
            [
             0.1111111111111111,
             "#000012"
            ],
            [
             0.2222222222222222,
             "#000013"
            ],
            [
             0.3333333333333333,
             "#000014"
            ],
            [
             0.4444444444444444,
             "#000015"
            ],
            [
             0.5555555555555556,
             "#000016"
            ],
            [
             0.6666666666666666,
             "#000017"
            ],
            [
             0.7777777777777778,
             "#000018"
            ],
            [
             0.8888888888888888,
             "#000019"
            ],
            [
             1,
             "#000020"
            ]
           ]
          },
          "colorscale": {
           "diverging": [
            [
             0,
             "#000021"
            ],
            [
             0.1,
             "#000022"
            ],
            [
             0.2,
             "#000023"
            ],
            [
             0.3,
             "#000024"
            ],
            [
             0.4,
             "#000025"
            ],
            [
             0.5,
             "#000026"
            ],
            [
             0.6,
             "#000027"
            ],
            [
             0.7,
             "#000028"
            ],
            [
             0.8,
             "#000029"
            ],
            [
             0.9,
             "#000030"
            ],
            [
             1,
             "#000031"
            ]
           ],
           "sequential": [
            [
             0,
             "#000011"
            ],
            [
             0.1111111111111111,
             "#000012"
            ],
            [
             0.2222222222222222,
             "#000013"
            ],
            [
             0.3333333333333333,
             "#000014"
            ],
            [
             0.4444444444444444,
             "#000015"
            ],
            [
             0.5555555555555556,
             "#000016"
            ],
            [
             0.6666666666666666,
             "#000017"
            ],
            [
             0.7777777777777778,
             "#000018"
            ],
            [
             0.8888888888888888,
             "#000019"
            ],
            [
             1,
             "#000020"
            ]
           ],
           "sequentialminus": [
            [
             0,
             "#000011"
            ],
            [
             0.1111111111111111,
             "#000012"
            ],
            [
             0.2222222222222222,
             "#000013"
            ],
            [
             0.3333333333333333,
             "#000014"
            ],
            [
             0.4444444444444444,
             "#000015"
            ],
            [
             0.5555555555555556,
             "#000016"
            ],
            [
             0.6666666666666666,
             "#000017"
            ],
            [
             0.7777777777777778,
             "#000018"
            ],
            [
             0.8888888888888888,
             "#000019"
            ],
            [
             1,
             "#000020"
            ]
           ]
          },
          "colorway": [
           "#000001",
           "#000002",
           "#000003",
           "#000004",
           "#000005",
           "#000006",
           "#000007",
           "#000008",
           "#000009",
           "#000010"
          ]
         }
        },
        "title": {
         "text": "Price Distribution by Vehicle Condition"
        },
        "xaxis": {
         "anchor": "y",
         "domain": [
          0,
          0.15
         ],
         "title": {
          "text": "Price (USD)"
         }
        },
        "xaxis2": {
         "anchor": "y2",
         "domain": [
          0.16999999999999998,
          0.31999999999999995
         ],
         "matches": "x",
         "title": {
          "text": "Price (USD)"
         }
        },
        "xaxis3": {
         "anchor": "y3",
         "domain": [
          0.33999999999999997,
          0.49
         ],
         "matches": "x",
         "title": {
          "text": "Price (USD)"
         }
        },
        "xaxis4": {
         "anchor": "y4",
         "domain": [
          0.51,
          0.66
         ],
         "matches": "x",
         "title": {
          "text": "Price (USD)"
         }
        },
        "xaxis5": {
         "anchor": "y5",
         "domain": [
          0.6799999999999999,
          0.83
         ],
         "matches": "x",
         "title": {
          "text": "Price (USD)"
         }
        },
        "xaxis6": {
         "anchor": "y6",
         "domain": [
          0.85,
          1
         ],
         "matches": "x",
         "title": {
          "text": "Price (USD)"
         }
        },
        "yaxis": {
         "anchor": "x",
         "domain": [
          0,
          1
         ],
         "title": {
          "text": "count"
         }
        },
        "yaxis2": {
         "anchor": "x2",
         "domain": [
          0,
          1
         ],
         "matches": "y",
         "showticklabels": false
        },
        "yaxis3": {
         "anchor": "x3",
         "domain": [
          0,
          1
         ],
         "matches": "y",
         "showticklabels": false
        },
        "yaxis4": {
         "anchor": "x4",
         "domain": [
          0,
          1
         ],
         "matches": "y",
         "showticklabels": false
        },
        "yaxis5": {
         "anchor": "x5",
         "domain": [
          0,
          1
         ],
         "matches": "y",
         "showticklabels": false
        },
        "yaxis6": {
         "anchor": "x6",
         "domain": [
          0,
          1
         ],
         "matches": "y",
         "showticklabels": false
        }
       }
      }
     },
     "metadata": {},
     "output_type": "display_data"
    }
   ],
   "source": [
    "\n",
    "\n",
    "fig = px.histogram(\n",
    "    df, x=\"price\",\n",
    "    nbins=60,\n",
    "    facet_col=\"condition\",\n",
    "    title=\"Price Distribution by Vehicle Condition\",\n",
    "    labels={\"price\": \"Price (USD)\"}\n",
    ")\n",
    "fig.show()"
   ]
  },
  {
   "cell_type": "code",
   "execution_count": 53,
   "id": "c6fad82f",
   "metadata": {},
   "outputs": [
    {
     "data": {
      "application/vnd.plotly.v1+json": {
       "config": {
        "plotlyServerURL": "https://plot.ly"
       },
       "data": [
        {
         "hovertemplate": "Model Year=%{x}<br>Number of Cars Listed=%{marker.size}<extra></extra>",
         "legendgroup": "",
         "marker": {
          "color": "#000001",
          "opacity": 0.7,
          "size": {
           "bdata": "DAAKAAkABwAUABIAJwAfACgAOgA6ADMAOQBsAHYAuAC9AEcBegEiAugCTQMNBJ0F4gYXCOUIJguGDXoJdwyxD44Pmg/UDUsNsQuFCa4IfAE=",
           "dtype": "i2"
          },
          "sizemode": "area",
          "sizeref": 10.0425,
          "symbol": "circle"
         },
         "mode": "markers",
         "name": "",
         "orientation": "v",
         "showlegend": false,
         "type": "scatter",
         "x": {
          "bdata": "vAe9B74HvwfAB8EHwgfDB8QHxQfGB8cHyAfJB8oHywfMB80HzgfPB9AH0QfSB9MH1AfVB9YH1wfYB9kH2gfbB9wH3QfeB98H4AfhB+IH4wc=",
          "dtype": "i2"
         },
         "xaxis": "x",
         "y": {
          "bdata": "DAAKAAkABwAUABIAJwAfACgAOgA6ADMAOQBsAHYAuAC9AEcBegEiAugCTQMNBJ0F4gYXCOUIJguGDXoJdwyxD44Pmg/UDUsNsQuFCa4IfAE=",
          "dtype": "i2"
         },
         "yaxis": "y"
        }
       ],
       "layout": {
        "legend": {
         "itemsizing": "constant",
         "tracegroupgap": 0
        },
        "template": {
         "data": {
          "candlestick": [
           {
            "decreasing": {
             "line": {
              "color": "#000033"
             }
            },
            "increasing": {
             "line": {
              "color": "#000032"
             }
            },
            "type": "candlestick"
           }
          ],
          "contour": [
           {
            "colorscale": [
             [
              0,
              "#000011"
             ],
             [
              0.1111111111111111,
              "#000012"
             ],
             [
              0.2222222222222222,
              "#000013"
             ],
             [
              0.3333333333333333,
              "#000014"
             ],
             [
              0.4444444444444444,
              "#000015"
             ],
             [
              0.5555555555555556,
              "#000016"
             ],
             [
              0.6666666666666666,
              "#000017"
             ],
             [
              0.7777777777777778,
              "#000018"
             ],
             [
              0.8888888888888888,
              "#000019"
             ],
             [
              1,
              "#000020"
             ]
            ],
            "type": "contour"
           }
          ],
          "contourcarpet": [
           {
            "colorscale": [
             [
              0,
              "#000011"
             ],
             [
              0.1111111111111111,
              "#000012"
             ],
             [
              0.2222222222222222,
              "#000013"
             ],
             [
              0.3333333333333333,
              "#000014"
             ],
             [
              0.4444444444444444,
              "#000015"
             ],
             [
              0.5555555555555556,
              "#000016"
             ],
             [
              0.6666666666666666,
              "#000017"
             ],
             [
              0.7777777777777778,
              "#000018"
             ],
             [
              0.8888888888888888,
              "#000019"
             ],
             [
              1,
              "#000020"
             ]
            ],
            "type": "contourcarpet"
           }
          ],
          "heatmap": [
           {
            "colorscale": [
             [
              0,
              "#000011"
             ],
             [
              0.1111111111111111,
              "#000012"
             ],
             [
              0.2222222222222222,
              "#000013"
             ],
             [
              0.3333333333333333,
              "#000014"
             ],
             [
              0.4444444444444444,
              "#000015"
             ],
             [
              0.5555555555555556,
              "#000016"
             ],
             [
              0.6666666666666666,
              "#000017"
             ],
             [
              0.7777777777777778,
              "#000018"
             ],
             [
              0.8888888888888888,
              "#000019"
             ],
             [
              1,
              "#000020"
             ]
            ],
            "type": "heatmap"
           }
          ],
          "histogram2d": [
           {
            "colorscale": [
             [
              0,
              "#000011"
             ],
             [
              0.1111111111111111,
              "#000012"
             ],
             [
              0.2222222222222222,
              "#000013"
             ],
             [
              0.3333333333333333,
              "#000014"
             ],
             [
              0.4444444444444444,
              "#000015"
             ],
             [
              0.5555555555555556,
              "#000016"
             ],
             [
              0.6666666666666666,
              "#000017"
             ],
             [
              0.7777777777777778,
              "#000018"
             ],
             [
              0.8888888888888888,
              "#000019"
             ],
             [
              1,
              "#000020"
             ]
            ],
            "type": "histogram2d"
           }
          ],
          "icicle": [
           {
            "textfont": {
             "color": "white"
            },
            "type": "icicle"
           }
          ],
          "sankey": [
           {
            "textfont": {
             "color": "#000036"
            },
            "type": "sankey"
           }
          ],
          "scatter": [
           {
            "marker": {
             "line": {
              "width": 0
             }
            },
            "type": "scatter"
           }
          ],
          "table": [
           {
            "cells": {
             "fill": {
              "color": "#000038"
             },
             "font": {
              "color": "#000037"
             },
             "line": {
              "color": "#000039"
             }
            },
            "header": {
             "fill": {
              "color": "#000040"
             },
             "font": {
              "color": "#000036"
             },
             "line": {
              "color": "#000039"
             }
            },
            "type": "table"
           }
          ],
          "waterfall": [
           {
            "connector": {
             "line": {
              "color": "#000036",
              "width": 2
             }
            },
            "decreasing": {
             "marker": {
              "color": "#000033"
             }
            },
            "increasing": {
             "marker": {
              "color": "#000032"
             }
            },
            "totals": {
             "marker": {
              "color": "#000034"
             }
            },
            "type": "waterfall"
           }
          ]
         },
         "layout": {
          "coloraxis": {
           "colorscale": [
            [
             0,
             "#000011"
            ],
            [
             0.1111111111111111,
             "#000012"
            ],
            [
             0.2222222222222222,
             "#000013"
            ],
            [
             0.3333333333333333,
             "#000014"
            ],
            [
             0.4444444444444444,
             "#000015"
            ],
            [
             0.5555555555555556,
             "#000016"
            ],
            [
             0.6666666666666666,
             "#000017"
            ],
            [
             0.7777777777777778,
             "#000018"
            ],
            [
             0.8888888888888888,
             "#000019"
            ],
            [
             1,
             "#000020"
            ]
           ]
          },
          "colorscale": {
           "diverging": [
            [
             0,
             "#000021"
            ],
            [
             0.1,
             "#000022"
            ],
            [
             0.2,
             "#000023"
            ],
            [
             0.3,
             "#000024"
            ],
            [
             0.4,
             "#000025"
            ],
            [
             0.5,
             "#000026"
            ],
            [
             0.6,
             "#000027"
            ],
            [
             0.7,
             "#000028"
            ],
            [
             0.8,
             "#000029"
            ],
            [
             0.9,
             "#000030"
            ],
            [
             1,
             "#000031"
            ]
           ],
           "sequential": [
            [
             0,
             "#000011"
            ],
            [
             0.1111111111111111,
             "#000012"
            ],
            [
             0.2222222222222222,
             "#000013"
            ],
            [
             0.3333333333333333,
             "#000014"
            ],
            [
             0.4444444444444444,
             "#000015"
            ],
            [
             0.5555555555555556,
             "#000016"
            ],
            [
             0.6666666666666666,
             "#000017"
            ],
            [
             0.7777777777777778,
             "#000018"
            ],
            [
             0.8888888888888888,
             "#000019"
            ],
            [
             1,
             "#000020"
            ]
           ],
           "sequentialminus": [
            [
             0,
             "#000011"
            ],
            [
             0.1111111111111111,
             "#000012"
            ],
            [
             0.2222222222222222,
             "#000013"
            ],
            [
             0.3333333333333333,
             "#000014"
            ],
            [
             0.4444444444444444,
             "#000015"
            ],
            [
             0.5555555555555556,
             "#000016"
            ],
            [
             0.6666666666666666,
             "#000017"
            ],
            [
             0.7777777777777778,
             "#000018"
            ],
            [
             0.8888888888888888,
             "#000019"
            ],
            [
             1,
             "#000020"
            ]
           ]
          },
          "colorway": [
           "#000001",
           "#000002",
           "#000003",
           "#000004",
           "#000005",
           "#000006",
           "#000007",
           "#000008",
           "#000009",
           "#000010"
          ]
         }
        },
        "title": {
         "text": "Number of Listings by Model Year (1980–2025)"
        },
        "xaxis": {
         "anchor": "y",
         "domain": [
          0,
          1
         ],
         "title": {
          "text": "Model Year"
         }
        },
        "yaxis": {
         "anchor": "x",
         "domain": [
          0,
          1
         ],
         "title": {
          "text": "Number of Cars Listed"
         }
        }
       }
      }
     },
     "metadata": {},
     "output_type": "display_data"
    }
   ],
   "source": [
    "CURRENT_YEAR = 2025          # keep this in one place\n",
    "\n",
    "# --- 1. Filter df for valid years 1980‑CURRENT_YEAR -------------\n",
    "mask = (\n",
    "    df[\"model_year\"].notna() &\n",
    "    (df[\"model_year\"] >= 1980) &\n",
    "    (df[\"model_year\"] <= CURRENT_YEAR)\n",
    ")\n",
    "\n",
    "year_counts = (\n",
    "    df.loc[mask]                   # apply the filter first\n",
    "      .groupby(\"model_year\")\n",
    "      .size()\n",
    "      .reset_index(name=\"count\")\n",
    "      .sort_values(\"model_year\")\n",
    ")\n",
    "\n",
    "# --- 2. Plot -----------------------------------------------------\n",
    "fig = px.scatter(                 # or px.bar(...) if you prefer bars\n",
    "    year_counts,\n",
    "    x=\"model_year\",\n",
    "    y=\"count\",\n",
    "    size=\"count\",\n",
    "    title=\"Number of Listings by Model Year (1980–2025)\",\n",
    "    labels={\"model_year\": \"Model Year\", \"count\": \"Number of Cars Listed\"},\n",
    ")\n",
    "fig.update_traces(marker=dict(opacity=0.7))\n",
    "fig.show()"
   ]
  },
  {
   "cell_type": "code",
   "execution_count": null,
   "id": "02308c88",
   "metadata": {},
   "outputs": [],
   "source": []
  }
 ],
 "metadata": {
  "kernelspec": {
   "display_name": "Python 3",
   "language": "python",
   "name": "python3"
  },
  "language_info": {
   "codemirror_mode": {
    "name": "ipython",
    "version": 3
   },
   "file_extension": ".py",
   "mimetype": "text/x-python",
   "name": "python",
   "nbconvert_exporter": "python",
   "pygments_lexer": "ipython3",
   "version": "3.10.11"
  }
 },
 "nbformat": 4,
 "nbformat_minor": 5
}
